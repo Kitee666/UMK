{
  "nbformat": 4,
  "nbformat_minor": 0,
  "metadata": {
    "kernelspec": {
      "display_name": "Python 3",
      "language": "python",
      "name": "python3"
    },
    "language_info": {
      "codemirror_mode": {
        "name": "ipython",
        "version": 3
      },
      "file_extension": ".py",
      "mimetype": "text/x-python",
      "name": "python",
      "nbconvert_exporter": "python",
      "pygments_lexer": "ipython3",
      "version": "3.8.3"
    },
    "colab": {
      "name": "som_new.ipynb",
      "provenance": [],
      "collapsed_sections": []
    }
  },
  "cells": [
    {
      "cell_type": "code",
      "metadata": {
        "id": "BfyM102nHP48"
      },
      "source": [
        "#Sieci Kohonena\n",
        "!pip install sklearn_som"
      ],
      "execution_count": null,
      "outputs": []
    },
    {
      "cell_type": "code",
      "metadata": {
        "id": "fhcmoXV6HP5A"
      },
      "source": [
        "import numpy as np\n",
        "import pandas as pd\n",
        "from scipy import stats\n",
        "from sklearn_som.som import SOM"
      ],
      "execution_count": null,
      "outputs": []
    },
    {
      "cell_type": "code",
      "metadata": {
        "id": "izBfGO96HP5B"
      },
      "source": [
        "ceny=pd.read_csv(\"C:\\\\Users\\\\user\\\\Documents\\\\Eksploracja danych\\\\Informatyka\\\\Lab12\\\\ceny.csv\",sep=\";\",decimal=\",\")\n",
        "ceny.head()"
      ],
      "execution_count": null,
      "outputs": []
    },
    {
      "cell_type": "code",
      "metadata": {
        "id": "gfuhsR03HP5C"
      },
      "source": [
        "names2=['ryz', 'maka', 'kurczak', 'kielbasa', 'jaja','maslo','olej','cukier','miod','kawa','herbata','karp']\n",
        "ceny_data=ceny[names2]\n",
        "ceny_data=stats.zscore(ceny_data) "
      ],
      "execution_count": null,
      "outputs": []
    },
    {
      "cell_type": "code",
      "metadata": {
        "id": "ekI-na33HP5C"
      },
      "source": [
        "data=np.array(ceny_data)"
      ],
      "execution_count": null,
      "outputs": []
    },
    {
      "cell_type": "code",
      "metadata": {
        "id": "piGEY4ssHP5D"
      },
      "source": [
        "ceny_som = SOM(m=2, n=2, dim=12)\n",
        "ceny_som.fit(data)"
      ],
      "execution_count": null,
      "outputs": []
    },
    {
      "cell_type": "code",
      "metadata": {
        "id": "_yeo2AS-HP5D"
      },
      "source": [
        "ceny['klastry'] = ceny_som.predict(data)"
      ],
      "execution_count": null,
      "outputs": []
    },
    {
      "cell_type": "code",
      "metadata": {
        "id": "Wae-MWWqHP5D"
      },
      "source": [
        "zestawienie=ceny[['rok','klastry','bezrobocie','przyrost2']]\n",
        "print(zestawienie)"
      ],
      "execution_count": null,
      "outputs": []
    },
    {
      "cell_type": "code",
      "metadata": {
        "id": "4NYK2FWBHP5E"
      },
      "source": [
        "ceny_som.transform(data)\n",
        "#The Euclidean distance from each item in data to each cluster center."
      ],
      "execution_count": null,
      "outputs": []
    }
  ]
}