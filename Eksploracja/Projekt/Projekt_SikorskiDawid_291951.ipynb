{
  "nbformat": 4,
  "nbformat_minor": 0,
  "metadata": {
    "colab": {
      "name": "Projekt_SikorskiDawid_291951.ipynb",
      "provenance": [],
      "collapsed_sections": []
    },
    "kernelspec": {
      "name": "python3",
      "display_name": "Python 3"
    },
    "language_info": {
      "name": "python"
    }
  },
  "cells": [
    {
      "cell_type": "markdown",
      "metadata": {
        "id": "Bv-uocvrLQrP"
      },
      "source": [
        "#Init"
      ]
    },
    {
      "cell_type": "code",
      "metadata": {
        "id": "GxVdBE8_gIBp"
      },
      "source": [
        "!pip install sklearn_som"
      ],
      "execution_count": null,
      "outputs": []
    },
    {
      "cell_type": "code",
      "metadata": {
        "id": "5-fOdd4TCExO"
      },
      "source": [
        "import pandas as pd\n",
        "import matplotlib.pyplot as plt\n",
        "import numpy as np\n",
        "import seaborn as sns\n",
        "from scipy import stats\n",
        "from sklearn.neighbors import KNeighborsClassifier\n",
        "import statsmodels.api as sm\n",
        "from sklearn.metrics import confusion_matrix, accuracy_score\n",
        "from sklearn.model_selection import train_test_split\n",
        "from sklearn.neural_network import MLPRegressor\n",
        "from sklearn.preprocessing import MinMaxScaler, StandardScaler\n",
        "from sklearn.metrics import mean_squared_error, mean_absolute_error, plot_confusion_matrix\n",
        "from statsmodels.stats.stattools import durbin_watson\n",
        "from scipy.stats import shapiro\n",
        "from sklearn_som.som import SOM"
      ],
      "execution_count": null,
      "outputs": []
    },
    {
      "cell_type": "code",
      "metadata": {
        "id": "Thvzha5HGTwe"
      },
      "source": [
        "index = 291951"
      ],
      "execution_count": null,
      "outputs": []
    },
    {
      "cell_type": "code",
      "metadata": {
        "id": "AzTTExOKGIM4"
      },
      "source": [
        "wina = pd.read_csv('https://gist.githubusercontent.com/sikor272/69f708f3d2d0616b767666a8b7820e02/raw/b13bc08eded544893cdcc9ded0b4599a81578ee1/winequality-red.csv', sep=\";\")"
      ],
      "execution_count": null,
      "outputs": []
    },
    {
      "cell_type": "code",
      "metadata": {
        "id": "-n7z4jONLD_o"
      },
      "source": [
        "columns_train = ['Stała kwasowość', 'Lotna kwasowość', 'Kwas cytrynowy', 'Cukier resztkowy',\n",
        "                'Chlorki', 'Wolny dwutlenek siarki', 'Całkowity dwutlenek siarki', 'Gęstość',\n",
        "                'pH', 'Siarczany', 'Alkohol']\n",
        "columns_result = ['Jakość']\n",
        "wina.columns = columns_train + columns_result"
      ],
      "execution_count": null,
      "outputs": []
    },
    {
      "cell_type": "markdown",
      "metadata": {
        "id": "haw8iBa8LMef"
      },
      "source": [
        "#Podział"
      ]
    },
    {
      "cell_type": "code",
      "metadata": {
        "id": "OkygMoroLB3I"
      },
      "source": [
        "x_train, x_test , y_train, y_test = train_test_split(wina[columns_train], wina[columns_result], train_size=0.7, random_state=index, stratify=wina[columns_result])\n",
        "wina_train = pd.concat([x_train, y_train], axis=1)\n",
        "wina_test = pd.concat([x_test, y_test], axis=1)\n",
        "\n",
        "y_train_array = np.array(y_train).reshape((-1, 1))\n",
        "y_test_array = np.array(y_test).reshape((-1, 1))"
      ],
      "execution_count": null,
      "outputs": []
    },
    {
      "cell_type": "code",
      "metadata": {
        "id": "lFDxID2PLrRI"
      },
      "source": [
        "print(wina.shape)\n",
        "\n",
        "print(x_train.shape)\n",
        "print(y_train.shape)\n",
        "\n",
        "print(x_test.shape)\n",
        "print(y_test.shape)"
      ],
      "execution_count": null,
      "outputs": []
    },
    {
      "cell_type": "code",
      "metadata": {
        "id": "4hTtPMpiwIw3"
      },
      "source": [
        "columns_train_no_corr = ['Lotna kwasowość', 'Cukier resztkowy',\n",
        "                'Chlorki', 'Całkowity dwutlenek siarki', 'Siarczany', 'Alkohol']\n",
        "x_train_no_corr, x_test_no_corr , y_train_no_corr, y_test_no_corr = train_test_split(wina[columns_train_no_corr], wina[columns_result], train_size=0.7, random_state=index, stratify=wina[columns_result])"
      ],
      "execution_count": null,
      "outputs": []
    },
    {
      "cell_type": "markdown",
      "metadata": {
        "id": "DYysAj6OLHGn"
      },
      "source": [
        "#Analiza Danych"
      ]
    },
    {
      "cell_type": "code",
      "metadata": {
        "id": "zwRtPc_5X7uX"
      },
      "source": [
        "wina.isna().sum()"
      ],
      "execution_count": null,
      "outputs": []
    },
    {
      "cell_type": "code",
      "metadata": {
        "id": "_NFsvJ8-S4-d"
      },
      "source": [
        "wina.duplicated().sum()"
      ],
      "execution_count": null,
      "outputs": []
    },
    {
      "cell_type": "code",
      "metadata": {
        "id": "vvScUogCuKJc"
      },
      "source": [
        "wina.groupby(columns_result).size().reset_index(name='Ilość')"
      ],
      "execution_count": null,
      "outputs": []
    },
    {
      "cell_type": "code",
      "metadata": {
        "id": "0Jw_KduYnTwI"
      },
      "source": [
        "plt.rcParams['figure.figsize'] = [10, 10]\n",
        "wina_train.hist()\n",
        "plt.show()"
      ],
      "execution_count": null,
      "outputs": []
    },
    {
      "cell_type": "code",
      "metadata": {
        "id": "FvgPKG8lGbhG"
      },
      "source": [
        "wina_train.describe().rename(index={'count' : 'Ilość', 'mean' : 'Średnia', 'min': 'Minimum', 'max' : 'Maksimum', 'std': 'Odchylenie standardowe'}).applymap('{:.3f}'.format)"
      ],
      "execution_count": null,
      "outputs": []
    },
    {
      "cell_type": "code",
      "metadata": {
        "id": "8bCJZ__6Tgrr"
      },
      "source": [
        "wina_train.groupby(columns_result).size().reset_index(name='Ilość')"
      ],
      "execution_count": null,
      "outputs": []
    },
    {
      "cell_type": "code",
      "metadata": {
        "id": "9rQpW5yL2AE1"
      },
      "source": [
        "wina_train.groupby(columns_result).mean().reset_index().T"
      ],
      "execution_count": null,
      "outputs": []
    },
    {
      "cell_type": "markdown",
      "metadata": {
        "id": "4HHsh-E6Up0c"
      },
      "source": [
        "##Korelacja\n",
        "Zbór treningowy"
      ]
    },
    {
      "cell_type": "code",
      "metadata": {
        "id": "hc-N0BkIUsmJ"
      },
      "source": [
        "corr = wina_train.corr()\n",
        "plt.rcParams['figure.figsize'] = [10, 10]\n",
        "mask = np.triu(np.ones_like(corr, dtype = bool)).T\n",
        "sns.heatmap(corr, mask = mask, annot=True, fmt='.2f', annot_kws={'size': 10}, yticklabels=wina_train.columns, xticklabels=wina_train.columns)\n",
        "plt.show()"
      ],
      "execution_count": null,
      "outputs": []
    },
    {
      "cell_type": "markdown",
      "metadata": {
        "id": "ZQUsvUtNgEJ4"
      },
      "source": [
        "#Klasyfikacja -> KNN"
      ]
    },
    {
      "cell_type": "code",
      "metadata": {
        "id": "abcoLfZJgcFI"
      },
      "source": [
        "standar_x = StandardScaler()\n",
        "standar_x.fit(x_train_no_corr)\n",
        "x_train_std = standar_x.transform(x_train_no_corr)\n",
        "x_test_std = standar_x.transform(x_test_no_corr)"
      ],
      "execution_count": null,
      "outputs": []
    },
    {
      "cell_type": "markdown",
      "metadata": {
        "id": "3YEOxVybQ46Y"
      },
      "source": [
        "Wstępny model, do wykrycia ilości sąsiadów"
      ]
    },
    {
      "cell_type": "code",
      "metadata": {
        "id": "PH1gTlPXvRTx"
      },
      "source": [
        "error_rate_test = []\n",
        "for i in range(1, 20):\n",
        "  knn = KNeighborsClassifier(n_neighbors= i, metric = 'euclidean', weights='uniform')\n",
        "  knn.fit(x_train_std, y_train_array.ravel())\n",
        "  pred_i = knn.predict(x_test_std).reshape((-1, 1))\n",
        "  error_rate_test.append(np.mean(pred_i != y_test_array))\n",
        "\n",
        "plt.rcParams['figure.figsize'] = [8, 5]\n",
        "plt.plot(range(1, 20), error_rate_test, color ='red',\n",
        "\t\t\t\tlinestyle ='dashed', marker ='o',\n",
        "\t\tmarkerfacecolor ='yellow', markersize = 10)\n",
        "\n",
        "plt.title('Współczynnik błędu względem ilości sąsiadów')\n",
        "plt.xlabel('Ilość sąsiadów')\n",
        "plt.ylabel('Współczynnik błędu')\n",
        "plt.show()"
      ],
      "execution_count": null,
      "outputs": []
    },
    {
      "cell_type": "code",
      "metadata": {
        "id": "KANpGzTCsWII"
      },
      "source": [
        "knn = KNeighborsClassifier(n_neighbors = 11, weights='uniform', metric='euclidean')\n",
        "_ = knn.fit(x_train_std, y_train_array.ravel())"
      ],
      "execution_count": null,
      "outputs": []
    },
    {
      "cell_type": "code",
      "metadata": {
        "id": "c3jx0yVhtMR5"
      },
      "source": [
        "y_predict_train_knn = knn.predict(x_train_std).reshape((-1, 1))\n",
        "\n",
        "y_predict_test_knn = knn.predict(x_test_std).reshape((-1, 1))\n",
        "\n",
        "conf_matrix_knn_train = confusion_matrix(y_train_array, y_predict_train_knn)\n",
        "acc_knn_train_with_1 = np.diag(conf_matrix_knn_train, -1).sum() + np.diag(conf_matrix_knn_train).sum() + np.diag(conf_matrix_knn_train, 1).sum()\n",
        "acc_knn_train_with_1 /= conf_matrix_knn_train.sum()\n",
        "\n",
        "conf_matrix_knn_test = confusion_matrix(y_test_array, y_predict_test_knn)\n",
        "acc_knn_test_with_1 = np.diag(conf_matrix_knn_test, -1).sum() + np.diag(conf_matrix_knn_test).sum() + np.diag(conf_matrix_knn_test, 1).sum()\n",
        "acc_knn_test_with_1 /= conf_matrix_knn_test.sum()"
      ],
      "execution_count": null,
      "outputs": []
    },
    {
      "cell_type": "code",
      "metadata": {
        "id": "CkyqqDWFzaJE"
      },
      "source": [
        "plt.rcParams['figure.figsize'] = [5, 5]\n",
        "sns.heatmap(conf_matrix_knn_test, annot=True, fmt=\"d\", linewidths=.5, xticklabels=[i for i in range(3, 9)], yticklabels=[i for i in range(3, 9)])\n",
        "plt.show()"
      ],
      "execution_count": null,
      "outputs": []
    },
    {
      "cell_type": "code",
      "metadata": {
        "id": "-ObF-nQytuU3"
      },
      "source": [
        "print('MSE dla uczacej             ', mean_squared_error(y_train_array, y_predict_train_knn))\n",
        "print('MAE dla uczacej             ', mean_absolute_error(y_train_array, y_predict_train_knn))\n",
        "print('RMSE dla uczacej            ', np.sqrt(mean_squared_error(y_train_array, y_predict_train_knn)))\n",
        "print('Trafność dla uczącej:       ', accuracy_score(y_train_array, y_predict_train_knn))\n",
        "print('Trafność dla uczącej[+/-1]: ', acc_knn_train_with_1)\n",
        "print('')\n",
        "print('MSE dla testowej            ', mean_squared_error(y_test_array, y_predict_test_knn))\n",
        "print('MAE dla testowej            ', mean_absolute_error(y_test_array, y_predict_test_knn))\n",
        "print('RMSE dla testowej           ', np.sqrt(mean_squared_error(y_test_array, y_predict_test_knn)))\n",
        "print('Trafność dla testowej:      ', accuracy_score(y_test_array, y_predict_test_knn))\n",
        "print('Trafność dla testowej[+/-1]:', acc_knn_test_with_1)"
      ],
      "execution_count": null,
      "outputs": []
    },
    {
      "cell_type": "code",
      "metadata": {
        "id": "7hhc4bD3zzxy"
      },
      "source": [
        "plt.rcParams['figure.figsize'] = [5, 5]\n",
        "plt.scatter(x=y_test_array, y=y_predict_test_knn)\n",
        "plt.xlabel('Wartości rzeczywiste')\n",
        "plt.ylabel('Wartości przewidywane')\n",
        "plt.show()"
      ],
      "execution_count": null,
      "outputs": []
    },
    {
      "cell_type": "markdown",
      "metadata": {
        "id": "Nci3szLlMFvY"
      },
      "source": [
        "#Regresja -> Sieć neuronowa"
      ]
    },
    {
      "cell_type": "code",
      "metadata": {
        "id": "0ctp4t8BMHhX"
      },
      "source": [
        "scaler_x = MinMaxScaler()\n",
        "scaler_x.fit(x_train_no_corr)\n",
        "x_train_norm = scaler_x.transform(x_train_no_corr)\n",
        "x_test_norm = scaler_x.transform(x_test_no_corr)\n",
        "\n",
        "scaler_y = MinMaxScaler()\n",
        "scaler_y.fit(y_train_array)\n",
        "y_train_norm = scaler_y.transform(y_train_array)\n",
        "y_test_norm = scaler_y.transform(y_test_array)"
      ],
      "execution_count": null,
      "outputs": []
    },
    {
      "cell_type": "code",
      "metadata": {
        "id": "NmGvj9kEMLnv"
      },
      "source": [
        "siec_neur = MLPRegressor(hidden_layer_sizes=(10,), activation='tanh', solver='lbfgs', alpha=0.0001, max_iter = 10000, random_state=index)\n",
        "_ = siec_neur.fit(x_train_norm, y_train_norm.ravel())"
      ],
      "execution_count": null,
      "outputs": []
    },
    {
      "cell_type": "code",
      "metadata": {
        "id": "-TlHl4uLMPxX"
      },
      "source": [
        "y_predict_train = siec_neur.predict(x_train_norm)\n",
        "y_predict_train = y_predict_train.reshape((-1, 1))\n",
        "y_predict_train_denorm = scaler_y.inverse_transform(y_predict_train)\n",
        "y_predict_train_denorm_round = np.round(y_predict_train_denorm)\n",
        "\n",
        "y_predict_test = siec_neur.predict(x_test_norm)\n",
        "y_predict_test = y_predict_test.reshape((-1, 1))\n",
        "y_predict_test_denorm = scaler_y.inverse_transform(y_predict_test)\n",
        "y_predict_test_denorm_round = np.round(y_predict_test_denorm)\n",
        "\n",
        "conf_matrix_siec_neur_train = confusion_matrix(y_train_array, y_predict_train_denorm_round)\n",
        "acc_train_with_1 = np.diag(conf_matrix_siec_neur_train, -1).sum() + np.diag(conf_matrix_siec_neur_train).sum() + np.diag(conf_matrix_siec_neur_train, 1).sum()\n",
        "acc_train_with_1 /= conf_matrix_siec_neur_train.sum()\n",
        "\n",
        "conf_matrix_siec_neur_test = confusion_matrix(y_test_array, y_predict_test_denorm_round)\n",
        "acc_test_with_1 = np.diag(conf_matrix_siec_neur_test, -1).sum() + np.diag(conf_matrix_siec_neur_test).sum() + np.diag(conf_matrix_siec_neur_test, 1).sum()\n",
        "acc_test_with_1 /= conf_matrix_siec_neur_test.sum()"
      ],
      "execution_count": null,
      "outputs": []
    },
    {
      "cell_type": "code",
      "metadata": {
        "id": "RnnKzumw3WGI"
      },
      "source": [
        "plt.rcParams['figure.figsize'] = [5, 5]\n",
        "sns.heatmap(conf_matrix_siec_neur_test, annot=True, fmt=\"d\", linewidths=.5, xticklabels=[i for i in range(3, 9)], yticklabels=[i for i in range(3, 9)])\n",
        "plt.show()"
      ],
      "execution_count": null,
      "outputs": []
    },
    {
      "cell_type": "code",
      "metadata": {
        "id": "Y4iL51RKMR1I"
      },
      "source": [
        "print('MSE dla uczacej             ', mean_squared_error(y_train_array, y_predict_train_denorm_round))\n",
        "print('MAE dla uczacej             ', mean_absolute_error(y_train_array, y_predict_train_denorm_round))\n",
        "print('RMSE dla uczacej            ', np.sqrt(mean_squared_error(y_train_array, y_predict_train_denorm_round)))\n",
        "print('Trafność dla uczącej:       ', accuracy_score(y_train_array, y_predict_train_denorm_round))\n",
        "print('Trafność dla uczącej[+/-1]: ', acc_train_with_1)\n",
        "print('')\n",
        "print('MSE dla testowej            ', mean_squared_error(y_test_array, y_predict_test_denorm_round))\n",
        "print('MAE dla testowej            ', mean_absolute_error(y_test_array, y_predict_test_denorm_round))\n",
        "print('RMSE dla testowej           ', np.sqrt(mean_squared_error(y_test_array, y_predict_test_denorm_round)))\n",
        "print('Trafność dla testowej:      ', accuracy_score(y_test_array, y_predict_test_denorm_round))\n",
        "print('Trafność dla testowej[+/-1]:', acc_test_with_1)"
      ],
      "execution_count": null,
      "outputs": []
    },
    {
      "cell_type": "code",
      "metadata": {
        "id": "ZOPInECvWxWl"
      },
      "source": [
        "plt.close()\n",
        "plt.rcParams['figure.figsize'] = [5, 5]\n",
        "plt.scatter(x=y_test_array, y=y_predict_test_denorm_round)\n",
        "plt.xlabel('Wartości rzeczywiste')\n",
        "plt.ylabel('Wartości przewidywane')\n",
        "plt.show()"
      ],
      "execution_count": null,
      "outputs": []
    },
    {
      "cell_type": "markdown",
      "metadata": {
        "id": "C3U19GrdxbDY"
      },
      "source": [
        "#Grupowanie -> SOM"
      ]
    },
    {
      "cell_type": "code",
      "metadata": {
        "id": "rYSaUjdQgYPa"
      },
      "source": [
        "dane_som_train = stats.zscore(wina_train[columns_train])\n",
        "dane_som_test = stats.zscore(wina_test[columns_train])"
      ],
      "execution_count": null,
      "outputs": []
    },
    {
      "cell_type": "code",
      "metadata": {
        "id": "DBCnIVx8xcp9"
      },
      "source": [
        "som = SOM(m = 4, n = 1, dim = len(columns_train))\n",
        "np.random.seed(None)\n",
        "np.random.seed(index)\n",
        "som.fit(dane_som_train)"
      ],
      "execution_count": null,
      "outputs": []
    },
    {
      "cell_type": "code",
      "metadata": {
        "id": "jpvBdloGg6vc"
      },
      "source": [
        "wina_train['Klaster'] = som.predict(dane_som_train)\n",
        "wina_test['Klaster'] = som.predict(dane_som_test)"
      ],
      "execution_count": null,
      "outputs": []
    },
    {
      "cell_type": "code",
      "metadata": {
        "id": "JRNoSomihEXp"
      },
      "source": [
        "wina_train.groupby('Klaster').size().reset_index(name='Ilość')"
      ],
      "execution_count": null,
      "outputs": []
    },
    {
      "cell_type": "code",
      "metadata": {
        "id": "LPF5lNI-hQ4b"
      },
      "source": [
        "wina_train.groupby('Klaster').mean().reset_index().T"
      ],
      "execution_count": null,
      "outputs": []
    },
    {
      "cell_type": "code",
      "metadata": {
        "id": "jmUjfxsFhvjq"
      },
      "source": [
        "wina_test.groupby('Klaster').size().reset_index(name='Ilość')"
      ],
      "execution_count": null,
      "outputs": []
    },
    {
      "cell_type": "code",
      "metadata": {
        "id": "K0EQMcqRhvba"
      },
      "source": [
        "wina_test.groupby('Klaster').mean().reset_index().T"
      ],
      "execution_count": null,
      "outputs": []
    },
    {
      "cell_type": "code",
      "metadata": {
        "id": "_KZ4HdQ6iACa"
      },
      "source": [
        "wina_srednie_train = wina_train.groupby('Klaster').mean()\n",
        "wina_srednie_train['Zbiór'] = 'Treningowy'\n",
        "wina_srednie_train['Ilość'] = wina_train.groupby('Klaster').size().reset_index(name='Ilość')['Ilość']\n",
        "\n",
        "wina_srednie_test = wina_test.groupby('Klaster').mean()\n",
        "wina_srednie_test['Zbiór'] = 'Testowy'\n",
        "wina_srednie_test['Ilość'] = wina_test.groupby('Klaster').size().reset_index(name='Ilość')['Ilość']"
      ],
      "execution_count": null,
      "outputs": []
    },
    {
      "cell_type": "code",
      "metadata": {
        "id": "RZHXHmBMiFji"
      },
      "source": [
        "pd.concat([wina_srednie_train, wina_srednie_test]).sort_values(by=['Klaster']).T"
      ],
      "execution_count": null,
      "outputs": []
    }
  ]
}