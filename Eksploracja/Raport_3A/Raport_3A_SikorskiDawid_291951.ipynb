{
  "nbformat": 4,
  "nbformat_minor": 0,
  "metadata": {
    "colab": {
      "name": "Raport_3A_SikorskiDawid_291951.ipynb",
      "provenance": [],
      "collapsed_sections": []
    },
    "kernelspec": {
      "name": "python3",
      "display_name": "Python 3"
    },
    "language_info": {
      "name": "python"
    }
  },
  "cells": [
    {
      "cell_type": "code",
      "metadata": {
        "id": "7Nq6nUmScTGT"
      },
      "source": [
        "!pip install adjustText"
      ],
      "execution_count": null,
      "outputs": []
    },
    {
      "cell_type": "code",
      "metadata": {
        "id": "P_WCGFvFPVD4"
      },
      "source": [
        "import matplotlib.pyplot as plt\n",
        "from adjustText import adjust_text\n",
        "import numpy as np\n",
        "import pandas as pd\n",
        "from sklearn import linear_model\n",
        "import statsmodels.api as sm\n",
        "import scipy\n",
        "import statsmodels\n",
        "from statsmodels.formula.api import ols\n",
        "from sklearn.neighbors import LocalOutlierFactor"
      ],
      "execution_count": null,
      "outputs": []
    },
    {
      "cell_type": "code",
      "metadata": {
        "id": "eoktcEJBPYtk"
      },
      "source": [
        "beers = pd.read_csv(\"https://gist.githubusercontent.com/sikor272/7ba233a7e855f9a3ff8dca841f6591e4/raw/4777e8129b388aed30d14eccf68356a86b175492/beers.csv\")"
      ],
      "execution_count": null,
      "outputs": []
    },
    {
      "cell_type": "markdown",
      "metadata": {
        "id": "0sZdJZyxqqxk"
      },
      "source": [
        "**WSZYSKIE PIWA**\n",
        "\n",
        "\n"
      ]
    },
    {
      "cell_type": "code",
      "metadata": {
        "id": "odXwzch0LIMO"
      },
      "source": [
        "beers.plot.scatter(x='alkohol', y='kalorie')\n",
        "texts = []\n",
        "for row in np.array(beers):\n",
        "    texts.append(plt.text(x=row[2], y=row[1], s=row[0]))\n",
        "adjust_text(texts, arrowprops=dict(arrowstyle='->', color='red', lw=0.5))\n",
        "plt.show()"
      ],
      "execution_count": null,
      "outputs": []
    },
    {
      "cell_type": "code",
      "metadata": {
        "id": "h58YZyftRLNW"
      },
      "source": [
        "print('Współczynnik korelacji: ', np.corrcoef(np.array(beers['alkohol']), np.array(beers['kalorie']))[1, 0])"
      ],
      "execution_count": null,
      "outputs": []
    },
    {
      "cell_type": "code",
      "metadata": {
        "id": "6z-oQ7P0dQCz"
      },
      "source": [
        "linearBeers = linear_model.LinearRegression()\n",
        "linearBeers.fit(np.array(beers['alkohol']).reshape(-1, 1), np.array(beers['kalorie']))\n",
        "print('Kalorie = (', linearBeers.coef_[0], ') * Alkohol + (', linearBeers.intercept_, ')')"
      ],
      "execution_count": null,
      "outputs": []
    },
    {
      "cell_type": "code",
      "metadata": {
        "id": "FXRpGJbbdTVf"
      },
      "source": [
        "minA, maxA = min(beers['alkohol']), max(beers['alkohol'])\n",
        "\n",
        "beers.plot.scatter(x='alkohol', y='kalorie')\n",
        "texts = []\n",
        "\n",
        "for row in np.array(beers):\n",
        "    texts.append(plt.text(x=row[2], y=row[1], s=row[0]))\n",
        "plt.plot([minA, maxA],\n",
        "         [minA * linearBeers.coef_[0] + linearBeers.intercept_, maxA * linearBeers.coef_[0] + linearBeers.intercept_],\n",
        "         color='blue')\n",
        "adjust_text(texts, arrowprops=dict(arrowstyle='->', color='red', lw=0.5))\n",
        "plt.show()"
      ],
      "execution_count": null,
      "outputs": []
    },
    {
      "cell_type": "code",
      "metadata": {
        "id": "oYytC5lrdeYL"
      },
      "source": [
        "beers['reszty'] = [(row[1] - (row[2] * linearBeers.coef_[0] + linearBeers.intercept_)) for row in np.array(beers)]"
      ],
      "execution_count": null,
      "outputs": []
    },
    {
      "cell_type": "code",
      "metadata": {
        "id": "VuFb71lrd0Hw"
      },
      "source": [
        "beers.hist(column='reszty', bins=range(-10, 6, 2))"
      ],
      "execution_count": null,
      "outputs": []
    },
    {
      "cell_type": "code",
      "metadata": {
        "id": "Z3YXp3mTftKy"
      },
      "source": [
        "sm.qqplot(beers['reszty'], line='q')\n",
        "plt.show()"
      ],
      "execution_count": null,
      "outputs": []
    },
    {
      "cell_type": "code",
      "metadata": {
        "id": "_ju_GWjfh-ix"
      },
      "source": [
        "scipy.stats.shapiro(beers['reszty'])"
      ],
      "execution_count": null,
      "outputs": []
    },
    {
      "cell_type": "code",
      "metadata": {
        "id": "gXHD4sOBiOGZ"
      },
      "source": [
        "statsmodels.stats.stattools.durbin_watson(beers['reszty'])"
      ],
      "execution_count": null,
      "outputs": []
    },
    {
      "cell_type": "code",
      "metadata": {
        "id": "8FwS2u-eioEk"
      },
      "source": [
        "model = ols('kalorie ~ alkohol', data=beers).fit()\n",
        "print(model.summary())"
      ],
      "execution_count": null,
      "outputs": []
    },
    {
      "cell_type": "code",
      "metadata": {
        "id": "YAvMoxUeirEa"
      },
      "source": [
        "beers['przewidywana'] = [(row[2] * linearBeers.coef_[0] + linearBeers.intercept_) for row in np.array(beers)]\n",
        "beers['reszty_sandaryzowane'] = [(row[3] - np.mean(beers['reszty']))/np.std(beers['reszty'])  for row in np.array(beers)]\n",
        "beers['przewidywana_standaryzowane'] = [(row[4] - np.mean(beers['przewidywana']))/np.std(beers['przewidywana'])  for row in np.array(beers)]\n",
        "beers.plot.scatter(x='przewidywana_standaryzowane', y='reszty_sandaryzowane')\n",
        "plt.xlabel(\"Standaryzowane wartości przewidywane\")\n",
        "plt.ylabel(\"Standaryzowane reszty\")\n",
        "plt.show()"
      ],
      "execution_count": null,
      "outputs": []
    },
    {
      "cell_type": "code",
      "metadata": {
        "id": "9TfWboywiyhI"
      },
      "source": [
        "beers['outlier'] = -(LocalOutlierFactor().fit_predict(np.array(beers['alkohol']).reshape(-1, 1), np.array(beers['kalorie'])))"
      ],
      "execution_count": null,
      "outputs": []
    },
    {
      "cell_type": "code",
      "metadata": {
        "id": "EAhqnMFqmTmZ"
      },
      "source": [
        "beers.loc[beers['outlier'] == 1]"
      ],
      "execution_count": null,
      "outputs": []
    },
    {
      "cell_type": "markdown",
      "metadata": {
        "id": "vl1geVI7rCGy"
      },
      "source": [
        "**PIWA LIGHT**"
      ]
    },
    {
      "cell_type": "code",
      "metadata": {
        "id": "pFsGpl7drEdD"
      },
      "source": [
        "beers['znacznik'] = [1 if row[2] <= 4.3 else 0 for row in np.array(beers)]"
      ],
      "execution_count": null,
      "outputs": []
    },
    {
      "cell_type": "code",
      "metadata": {
        "id": "kS1zHPZcw7dG"
      },
      "source": [
        "light = beers.loc[beers['znacznik'] == 1][['marka', 'kalorie', 'alkohol']]"
      ],
      "execution_count": null,
      "outputs": []
    },
    {
      "cell_type": "code",
      "metadata": {
        "id": "CGiGGfF4rPvl"
      },
      "source": [
        "light.plot.scatter(x='alkohol', y='kalorie')\n",
        "texts = []\n",
        "for row in np.array(light):\n",
        "    texts.append(plt.text(x=row[2], y=row[1], s=row[0]))\n",
        "adjust_text(texts, arrowprops=dict(arrowstyle='->', color='red', lw=0.5))\n",
        "plt.show()"
      ],
      "execution_count": null,
      "outputs": []
    },
    {
      "cell_type": "code",
      "metadata": {
        "id": "LX8oG1gIshrV"
      },
      "source": [
        "print('Współczynnik korelacji: ', np.corrcoef(np.array(light['alkohol']), np.array(light['kalorie']))[1, 0])"
      ],
      "execution_count": null,
      "outputs": []
    },
    {
      "cell_type": "code",
      "metadata": {
        "id": "RFK54xR8sqRD"
      },
      "source": [
        "linearBeersLight = linear_model.LinearRegression()\n",
        "linearBeersLight.fit(np.array(light['alkohol']).reshape(-1, 1), np.array(light['kalorie']))\n",
        "print('Kalorie = (', linearBeersLight.coef_[0], ') * Alkohol + (', linearBeersLight.intercept_, ')')"
      ],
      "execution_count": null,
      "outputs": []
    },
    {
      "cell_type": "code",
      "metadata": {
        "id": "9Ee9vblRs4ej"
      },
      "source": [
        "minA, maxA = min(light['alkohol']), max(light['alkohol'])\n",
        "\n",
        "light.plot.scatter(x='alkohol', y='kalorie')\n",
        "texts = []\n",
        "\n",
        "for row in np.array(light):\n",
        "    texts.append(plt.text(x=row[2], y=row[1], s=row[0]))\n",
        "plt.plot([minA, maxA],\n",
        "         [minA * linearBeersLight.coef_[0] + linearBeersLight.intercept_, maxA * linearBeersLight.coef_[0] + linearBeersLight.intercept_],\n",
        "         color='blue')\n",
        "adjust_text(texts, arrowprops=dict(arrowstyle='->', color='red', lw=0.5))\n",
        "plt.show()"
      ],
      "execution_count": null,
      "outputs": []
    },
    {
      "cell_type": "code",
      "metadata": {
        "id": "iQSiZrpwwTXt"
      },
      "source": [
        "light['reszty'] = [(row[1] - (row[2] * linearBeersLight.coef_[0] + linearBeersLight.intercept_)) for row in np.array(light)]"
      ],
      "execution_count": null,
      "outputs": []
    },
    {
      "cell_type": "code",
      "metadata": {
        "id": "q2pIvIw_yFiN"
      },
      "source": [
        "light.hist(column='reszty')"
      ],
      "execution_count": null,
      "outputs": []
    },
    {
      "cell_type": "code",
      "metadata": {
        "id": "8Q0v0qmBylCb"
      },
      "source": [
        "sm.qqplot(light['reszty'], line='q')\n",
        "plt.show()"
      ],
      "execution_count": null,
      "outputs": []
    },
    {
      "cell_type": "code",
      "metadata": {
        "id": "cowNLRF6yo6b"
      },
      "source": [
        "scipy.stats.shapiro(light['reszty'])"
      ],
      "execution_count": null,
      "outputs": []
    },
    {
      "cell_type": "code",
      "metadata": {
        "id": "q7Fj6E0Rys8c"
      },
      "source": [
        "statsmodels.stats.stattools.durbin_watson(light['reszty'])"
      ],
      "execution_count": null,
      "outputs": []
    },
    {
      "cell_type": "code",
      "metadata": {
        "id": "K0D81rAiyxVL"
      },
      "source": [
        "model = ols('kalorie ~ alkohol', data=light).fit()\n",
        "print(model.summary())"
      ],
      "execution_count": null,
      "outputs": []
    },
    {
      "cell_type": "code",
      "metadata": {
        "id": "u2R3Ui4-y4TM"
      },
      "source": [
        "light['przewidywana'] = [(row[2] * linearBeersLight.coef_[0] + linearBeersLight.intercept_) for row in np.array(light)]\n",
        "light['reszty_sandaryzowane'] = [(row[3] - np.mean(light['reszty']))/np.std(light['reszty'])  for row in np.array(light)]\n",
        "light['przewidywana_standaryzowane'] = [(row[4] - np.mean(light['przewidywana']))/np.std(light['przewidywana'])  for row in np.array(light)]\n",
        "light.plot.scatter(x='przewidywana_standaryzowane', y='reszty_sandaryzowane')\n",
        "plt.xlabel(\"Standaryzowane wartości przewidywane\")\n",
        "plt.ylabel(\"Standaryzowane reszty\")\n",
        "plt.show()"
      ],
      "execution_count": null,
      "outputs": []
    },
    {
      "cell_type": "code",
      "metadata": {
        "id": "DILKxJszzGqD"
      },
      "source": [
        "light['outlier'] = -(LocalOutlierFactor().fit_predict(np.array(light['alkohol']).reshape(-1, 1), np.array(light['kalorie'])))"
      ],
      "execution_count": null,
      "outputs": []
    },
    {
      "cell_type": "markdown",
      "metadata": {
        "id": "QsZX7SHxzcEn"
      },
      "source": [
        "**Piwa normalne**"
      ]
    },
    {
      "cell_type": "code",
      "metadata": {
        "id": "wT0wcwjzzhFM"
      },
      "source": [
        "normal = beers.loc[beers['znacznik'] == 0][['marka', 'kalorie', 'alkohol']]"
      ],
      "execution_count": null,
      "outputs": []
    },
    {
      "cell_type": "code",
      "metadata": {
        "id": "dqHdYvXuzr5N"
      },
      "source": [
        "normal.plot.scatter(x='alkohol', y='kalorie')\n",
        "texts = []\n",
        "for row in np.array(normal):\n",
        "    texts.append(plt.text(x=row[2], y=row[1], s=row[0]))\n",
        "adjust_text(texts, arrowprops=dict(arrowstyle='->', color='red', lw=0.5))\n",
        "plt.show()"
      ],
      "execution_count": null,
      "outputs": []
    },
    {
      "cell_type": "code",
      "metadata": {
        "id": "NIZh4QTVzsTJ"
      },
      "source": [
        "print('Współczynnik korelacji: ', np.corrcoef(np.array(normal['alkohol']), np.array(normal['kalorie']))[1, 0])"
      ],
      "execution_count": null,
      "outputs": []
    },
    {
      "cell_type": "code",
      "metadata": {
        "id": "ImCE_sfVzxGc"
      },
      "source": [
        "linearBeersNormal = linear_model.LinearRegression()\n",
        "linearBeersNormal.fit(np.array(normal['alkohol']).reshape(-1, 1), np.array(normal['kalorie']))\n",
        "print('Kalorie = (', linearBeersNormal.coef_[0], ') * Alkohol + (', linearBeersNormal.intercept_, ')')"
      ],
      "execution_count": null,
      "outputs": []
    },
    {
      "cell_type": "code",
      "metadata": {
        "id": "w86qgKiDzz4c"
      },
      "source": [
        "minA, maxA = min(normal['alkohol']), max(normal['alkohol'])\n",
        "\n",
        "normal.plot.scatter(x='alkohol', y='kalorie')\n",
        "texts = []\n",
        "\n",
        "for row in np.array(normal):\n",
        "    texts.append(plt.text(x=row[2], y=row[1], s=row[0]))\n",
        "plt.plot([minA, maxA],\n",
        "         [minA * linearBeersNormal.coef_[0] + linearBeersNormal.intercept_, maxA * linearBeersNormal.coef_[0] + linearBeersNormal.intercept_],\n",
        "         color='blue')\n",
        "adjust_text(texts, arrowprops=dict(arrowstyle='->', color='red', lw=0.5))\n",
        "plt.show()"
      ],
      "execution_count": null,
      "outputs": []
    },
    {
      "cell_type": "code",
      "metadata": {
        "id": "3nZ6wi_5z4Je"
      },
      "source": [
        "normal['reszty'] = [(row[1] - (row[2] * linearBeersNormal.coef_[0] + linearBeersNormal.intercept_)) for row in np.array(normal)]"
      ],
      "execution_count": null,
      "outputs": []
    },
    {
      "cell_type": "code",
      "metadata": {
        "id": "ahnA8Q6Gz6Z9"
      },
      "source": [
        "normal.hist(column='reszty')"
      ],
      "execution_count": null,
      "outputs": []
    },
    {
      "cell_type": "code",
      "metadata": {
        "id": "-32zLwecz8XJ"
      },
      "source": [
        "sm.qqplot(normal['reszty'], line='q')\n",
        "plt.show()"
      ],
      "execution_count": null,
      "outputs": []
    },
    {
      "cell_type": "code",
      "metadata": {
        "id": "IuJo05rlz-Qv"
      },
      "source": [
        "scipy.stats.shapiro(normal['reszty'])"
      ],
      "execution_count": null,
      "outputs": []
    },
    {
      "cell_type": "code",
      "metadata": {
        "id": "-u_6F5V10AIw"
      },
      "source": [
        "statsmodels.stats.stattools.durbin_watson(normal['reszty'])"
      ],
      "execution_count": null,
      "outputs": []
    },
    {
      "cell_type": "code",
      "metadata": {
        "id": "ZkYPGKw20Bor"
      },
      "source": [
        "model = ols('kalorie ~ alkohol', data=normal).fit()\n",
        "print(model.summary())"
      ],
      "execution_count": null,
      "outputs": []
    },
    {
      "cell_type": "code",
      "metadata": {
        "id": "so9Rf6rE0D29"
      },
      "source": [
        "normal['przewidywana'] = [(row[2] * linearBeersNormal.coef_[0] + linearBeersNormal.intercept_) for row in np.array(normal)]\n",
        "normal['reszty_sandaryzowane'] = [(row[3] - np.mean(normal['reszty']))/np.std(normal['reszty'])  for row in np.array(normal)]\n",
        "normal['przewidywana_standaryzowane'] = [(row[4] - np.mean(normal['przewidywana']))/np.std(normal['przewidywana'])  for row in np.array(normal)]\n",
        "normal.plot.scatter(x='przewidywana_standaryzowane', y='reszty_sandaryzowane')\n",
        "plt.xlabel(\"Standaryzowane wartości przewidywane\")\n",
        "plt.ylabel(\"Standaryzowane reszty\")\n",
        "plt.show()"
      ],
      "execution_count": null,
      "outputs": []
    },
    {
      "cell_type": "code",
      "metadata": {
        "id": "eJ8CF6ve0FrU"
      },
      "source": [
        "normal['outlier'] = -(LocalOutlierFactor().fit_predict(np.array(normal['alkohol']).reshape(-1, 1), np.array(normal['kalorie'])))"
      ],
      "execution_count": null,
      "outputs": []
    },
    {
      "cell_type": "code",
      "metadata": {
        "id": "JpBbytGA1YSX"
      },
      "source": [
        "normal.loc[normal['outlier'] == 1]"
      ],
      "execution_count": null,
      "outputs": []
    },
    {
      "cell_type": "markdown",
      "metadata": {
        "id": "WYMUEmFh2Ol1"
      },
      "source": [
        "**TESTOWANIE**"
      ]
    },
    {
      "cell_type": "code",
      "metadata": {
        "id": "oiwVbZ-w2m62"
      },
      "source": [
        "for i in np.arange(2, 6.01, 0.2):\n",
        "  i = round(i, 1)\n",
        "  print('Przewidywana kalorycznosc dla piwa', i, '% wynosi:', i * linearBeers.coef_[0] + linearBeers.intercept_, 'kalorii')"
      ],
      "execution_count": null,
      "outputs": []
    }
  ]
}