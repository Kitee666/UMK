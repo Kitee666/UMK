{
  "nbformat": 4,
  "nbformat_minor": 0,
  "metadata": {
    "colab": {
      "name": "Raport_4A_SikorskiDawid_291951.ipynb",
      "provenance": [],
      "collapsed_sections": []
    },
    "kernelspec": {
      "name": "python3",
      "display_name": "Python 3"
    },
    "language_info": {
      "name": "python"
    }
  },
  "cells": [
    {
      "cell_type": "code",
      "metadata": {
        "id": "YXD67ZkXOPib"
      },
      "source": [
        "import matplotlib.pyplot as plt\n",
        "import numpy as np\n",
        "import pandas as pd\n",
        "import seaborn as sns\n",
        "from sklearn import model_selection\n",
        "from sklearn.preprocessing import MinMaxScaler\n",
        "from sklearn.metrics import mean_squared_error, mean_absolute_error \n",
        "from sklearn.neural_network import MLPRegressor\n",
        "from sklearn.tree import DecisionTreeRegressor, export_graphviz\n",
        "import graphviz"
      ],
      "execution_count": null,
      "outputs": []
    },
    {
      "cell_type": "code",
      "metadata": {
        "id": "iiTqTvS4yfDk"
      },
      "source": [
        "index = 291951\n",
        "plt.rcParams['figure.figsize'] = [10, 10]"
      ],
      "execution_count": null,
      "outputs": []
    },
    {
      "cell_type": "code",
      "metadata": {
        "id": "3SWluECtN8rt"
      },
      "source": [
        "dane_testy = pd.read_csv('https://gist.githubusercontent.com/sikor272/a0ddd825ea715b35518215087090b70a/raw/d0f298961aabf5d6e2635b803b57ef24827d3265/dane_testy.csv', sep=';')"
      ],
      "execution_count": null,
      "outputs": []
    },
    {
      "cell_type": "code",
      "metadata": {
        "id": "WWM9jBD1f0WZ"
      },
      "source": [
        "columns = ['Lokalizacja', 'Typ', 'Metoda', 'Liczba_uczniów', 'Płeć', 'Obiad', 'Pre_test']"
      ],
      "execution_count": null,
      "outputs": []
    },
    {
      "cell_type": "code",
      "metadata": {
        "id": "bSziOghUPHZl"
      },
      "source": [
        "for i in columns:\n",
        "  print(i, dane_testy[i].unique())"
      ],
      "execution_count": null,
      "outputs": []
    },
    {
      "cell_type": "code",
      "metadata": {
        "id": "c21dVfxeUukf"
      },
      "source": [
        "print('Szkoła', dane_testy['Szkoła'].unique(), len(dane_testy['Szkoła'].unique()))\n",
        "print('Klasa', dane_testy['Klasa'].unique(), len(dane_testy['Klasa'].unique()))\n",
        "print('Uczeń', dane_testy['Uczeń'].unique(), len(dane_testy['Uczeń'].unique()))"
      ],
      "execution_count": null,
      "outputs": []
    },
    {
      "cell_type": "code",
      "metadata": {
        "id": "rMNNcA48crfn"
      },
      "source": [
        "dane_testy['Lokalizacja_Miejska'] = dane_testy['Lokalizacja'].apply(lambda s: 1 if s == 'miejska' else 0)\n",
        "dane_testy['Lokalizacja_Podmiejska'] = dane_testy['Lokalizacja'].apply(lambda s: 1 if s == 'podmiejska' else 0)\n",
        "dane_testy['Lokalizacja_Wiejska'] = dane_testy['Lokalizacja'].apply(lambda s: 1 if s == 'wiejska' else 0)\n",
        "dane_testy['Typ'] = dane_testy['Typ'].apply(lambda s: 1 if s == 'publiczna' else 0)\n",
        "dane_testy['Metoda'] = dane_testy['Metoda'].apply(lambda s: 1 if s == 'standardowa' else 0)\n",
        "dane_testy['Płeć'] = dane_testy['Płeć'].apply(lambda s: 1 if s == 'chłopiec' else 0)\n",
        "dane_testy['Obiad'] = dane_testy['Obiad'].apply(lambda s: 1 if s == 'kwalifikuje się' else 0)"
      ],
      "execution_count": null,
      "outputs": []
    },
    {
      "cell_type": "code",
      "metadata": {
        "id": "HoIoVeeZqrKK"
      },
      "source": [
        "columns = ['Lokalizacja_Miejska', 'Lokalizacja_Podmiejska', 'Lokalizacja_Wiejska', 'Typ', 'Metoda', 'Liczba_uczniów', 'Płeć', 'Obiad', 'Pre_test']"
      ],
      "execution_count": null,
      "outputs": []
    },
    {
      "cell_type": "markdown",
      "metadata": {
        "id": "A_x2PkmqnBWk"
      },
      "source": [
        "**Macierz korelacji**"
      ]
    },
    {
      "cell_type": "code",
      "metadata": {
        "id": "iS9KAF9wfHKf"
      },
      "source": [
        "sns.heatmap(dane_testy[columns + ['Post_test']].corr(), annot=True, fmt='.2f', annot_kws={'size': 15}, yticklabels=columns + ['Post_test'], xticklabels=columns + ['Post_test'])\n",
        "plt.show()"
      ],
      "execution_count": null,
      "outputs": []
    },
    {
      "cell_type": "markdown",
      "metadata": {
        "id": "WCd1k7HInIfY"
      },
      "source": [
        "**Macierz wykresów rozrzutów**"
      ]
    },
    {
      "cell_type": "code",
      "metadata": {
        "id": "sr1uduMKnILI"
      },
      "source": [
        "sns.pairplot(dane_testy, x_vars=columns, y_vars=[\"Post_test\"], diag_kind = None)\n",
        "plt.tight_layout()\n",
        "plt.show()"
      ],
      "execution_count": null,
      "outputs": []
    },
    {
      "cell_type": "markdown",
      "metadata": {
        "id": "-bdQNQ5CoQIi"
      },
      "source": [
        "**Podział danych**"
      ]
    },
    {
      "cell_type": "code",
      "metadata": {
        "id": "3ykdVbodSUqh"
      },
      "source": [
        "columns_after = ['Metoda', 'Pre_test']"
      ],
      "execution_count": null,
      "outputs": []
    },
    {
      "cell_type": "code",
      "metadata": {
        "id": "_cYiwmuFhgef"
      },
      "source": [
        "x_train_all, x_test_all , y_train_all, y_test_all = model_selection.train_test_split(dane_testy[columns], dane_testy['Post_test'], train_size=0.7, random_state=index)\n",
        "\n",
        "x_train, x_test , y_train, y_test = model_selection.train_test_split(dane_testy[columns_after], dane_testy['Post_test'], train_size=0.7, random_state=index)\n",
        "y_train = np.array(y_train).reshape((-1, 1))\n",
        "y_test = np.array(y_test).reshape((-1, 1))"
      ],
      "execution_count": null,
      "outputs": []
    },
    {
      "cell_type": "code",
      "metadata": {
        "id": "JwGTpmnBmBOT"
      },
      "source": [
        "print(dane_testy.shape)\n",
        "\n",
        "print(x_train.shape)\n",
        "print(y_train.shape)\n",
        "\n",
        "print(x_test.shape)\n",
        "print(y_test.shape)"
      ],
      "execution_count": null,
      "outputs": []
    },
    {
      "cell_type": "markdown",
      "metadata": {
        "id": "31EYfFCsodLC"
      },
      "source": [
        "**Sieć neuronowa**\n"
      ]
    },
    {
      "cell_type": "code",
      "metadata": {
        "id": "2CktuYsxocQp"
      },
      "source": [
        "scaler_x = MinMaxScaler()\n",
        "scaler_x.fit(x_train)\n",
        "x_train_norm = scaler_x.transform(x_train)\n",
        "x_test_norm = scaler_x.transform(x_test)\n",
        "\n",
        "scaler_y = MinMaxScaler()\n",
        "scaler_y.fit(y_train)\n",
        "y_train_norm = scaler_y.transform(y_train)\n",
        "y_test_norm = scaler_y.transform(y_test)"
      ],
      "execution_count": null,
      "outputs": []
    },
    {
      "cell_type": "code",
      "metadata": {
        "id": "dXoCv2Id6FoI"
      },
      "source": [
        "siec_neur = MLPRegressor(hidden_layer_sizes=(10,), activation='tanh',solver='lbfgs', alpha=0.0001, max_iter = 10000, random_state=index)\n",
        "_ = siec_neur.fit(x_train_norm, y_train_norm.ravel())"
      ],
      "execution_count": null,
      "outputs": []
    },
    {
      "cell_type": "code",
      "metadata": {
        "id": "S9eejjgu4J6l"
      },
      "source": [
        "siec_neur.coefs_"
      ],
      "execution_count": null,
      "outputs": []
    },
    {
      "cell_type": "code",
      "metadata": {
        "id": "T8j0Uv706rt9"
      },
      "source": [
        "y_predict_train = siec_neur.predict(x_train_norm)\n",
        "y_predict_train = y_predict_train.reshape((-1, 1))\n",
        "y_predict_train_denorm = scaler_y.inverse_transform(y_predict_train)\n",
        "\n",
        "y_predict_test = siec_neur.predict(x_test_norm)\n",
        "y_predict_test = y_predict_test.reshape((-1, 1))\n",
        "y_predict_test_denorm = scaler_y.inverse_transform(y_predict_test)"
      ],
      "execution_count": null,
      "outputs": []
    },
    {
      "cell_type": "code",
      "metadata": {
        "id": "2dog9p5S9lrG"
      },
      "source": [
        "print('MSE dla uczacej ', mean_squared_error(y_train, y_predict_train_denorm))\n",
        "print('MAE dla uczacej  ', mean_absolute_error(y_train, y_predict_train_denorm))\n",
        "print('RMSE dla uczacej ', np.sqrt(mean_squared_error(y_train, y_predict_train_denorm)))\n",
        "print('')\n",
        "print('MSE dla testowej', mean_squared_error(y_test, y_predict_test_denorm))\n",
        "print('MAE dla testowej ', mean_absolute_error(y_test, y_predict_test_denorm))\n",
        "print('RMSE dla testowej', np.sqrt(mean_squared_error(y_test, y_predict_test_denorm)))"
      ],
      "execution_count": null,
      "outputs": []
    },
    {
      "cell_type": "code",
      "metadata": {
        "id": "zxszk4CK_6am"
      },
      "source": [
        "plt.scatter(x=y_test, y=y_predict_test_denorm)\n",
        "plt.xlabel('Wartości rzeczywiste')\n",
        "plt.ylabel('Wartości przewidywane')\n",
        "plt.show()"
      ],
      "execution_count": null,
      "outputs": []
    },
    {
      "cell_type": "markdown",
      "metadata": {
        "id": "-yS_muwsMzok"
      },
      "source": [
        "**Drzewo CART** wszystkie predyktory"
      ]
    },
    {
      "cell_type": "code",
      "metadata": {
        "id": "YgFZDbUCne5w"
      },
      "source": [
        "drzewo = DecisionTreeRegressor(criterion=\"mse\", max_depth=5, min_samples_split=10, min_samples_leaf=40, random_state=index)\n",
        "_ = drzewo.fit(x_train_all, y_train_all)"
      ],
      "execution_count": null,
      "outputs": []
    },
    {
      "cell_type": "code",
      "metadata": {
        "id": "HYxfVJjznvNi"
      },
      "source": [
        "for i, j in zip(columns, drzewo.feature_importances_):\n",
        "  print(i, ' ważność:', j)"
      ],
      "execution_count": null,
      "outputs": []
    },
    {
      "cell_type": "markdown",
      "metadata": {
        "id": "BZTaJYLjvwYD"
      },
      "source": [
        "**Drzewo CART**"
      ]
    },
    {
      "cell_type": "code",
      "metadata": {
        "id": "ejo4PzXnQoW9"
      },
      "source": [
        "drzewo = DecisionTreeRegressor(criterion=\"mse\", max_depth=5, min_samples_split=10, min_samples_leaf=40, random_state=index)\n",
        "_ = drzewo.fit(x_train, y_train)"
      ],
      "execution_count": null,
      "outputs": []
    },
    {
      "cell_type": "code",
      "metadata": {
        "id": "CLfKXMTF4lxU"
      },
      "source": [
        "for i, j in zip(columns_after, drzewo.feature_importances_):\n",
        "  print(i, ' ważność:', j)"
      ],
      "execution_count": null,
      "outputs": []
    },
    {
      "cell_type": "code",
      "metadata": {
        "id": "U-8oUONdVOBM"
      },
      "source": [
        "graphviz.Source(export_graphviz(drzewo, filled=True, feature_names=columns_after))"
      ],
      "execution_count": null,
      "outputs": []
    },
    {
      "cell_type": "code",
      "metadata": {
        "id": "VLl2dTHwXr9E"
      },
      "source": [
        "y_predict_train_cart = drzewo.predict(x_train)\n",
        "y_predict_test_cart = drzewo.predict(x_test)"
      ],
      "execution_count": null,
      "outputs": []
    },
    {
      "cell_type": "code",
      "metadata": {
        "id": "ZR7EPfwnX_vF"
      },
      "source": [
        "print('MSE dla uczacej ', mean_squared_error(y_train, y_predict_train_cart))\n",
        "print('MAE dla uczacej  ', mean_absolute_error(y_train, y_predict_train_cart))\n",
        "print('RMSE dla uczacej ', np.sqrt(mean_squared_error(y_train, y_predict_train_cart)))\n",
        "print('')\n",
        "print('MSE dla testowej', mean_squared_error(y_test, y_predict_test_cart))\n",
        "print('MAE dla testowej ', mean_absolute_error(y_test, y_predict_test_cart))\n",
        "print('RMSE dla testowej', np.sqrt(mean_squared_error(y_test, y_predict_test_cart)))"
      ],
      "execution_count": null,
      "outputs": []
    },
    {
      "cell_type": "code",
      "metadata": {
        "id": "j9-JvJQRaP7V"
      },
      "source": [
        "plt.scatter(x=y_test, y=y_predict_test_cart)\n",
        "plt.xlabel('Wartości rzeczywiste')\n",
        "plt.ylabel('Wartości przewidywane')\n",
        "plt.show()"
      ],
      "execution_count": null,
      "outputs": []
    }
  ]
}