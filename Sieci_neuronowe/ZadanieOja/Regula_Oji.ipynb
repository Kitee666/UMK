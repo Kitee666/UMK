{
 "nbformat": 4,
 "nbformat_minor": 0,
 "metadata": {
  "colab": {
   "name": "Regula_Oji.ipynb",
   "provenance": [],
   "collapsed_sections": []
  },
  "kernelspec": {
   "name": "python3",
   "display_name": "Python 3"
  }
 },
 "cells": [
  {
   "cell_type": "code",
   "metadata": {
    "id": "j5a6kOwbefsy"
   },
   "source": [
    "from sklearn.preprocessing import normalize\n",
    "from sklearn.datasets import fetch_lfw_people\n",
    "import numpy as np\n",
    "import matplotlib.pyplot as plt\n",
    "from sklearn import decomposition\n",
    "from sklearn.preprocessing import normalize\n",
    "\n",
    "lfw_people = fetch_lfw_people(min_faces_per_person=40, resize=0.4)\n",
    "no_of_sample, height, width = lfw_people.images.shape\n",
    "images = []\n",
    "for i in range(len(lfw_people.images)):\n",
    "  if lfw_people.target_names[lfw_people.target[i]] == \"Luiz Inacio Lula da Silva\":\n",
    "    images.append(lfw_people.data[i])\n",
    "\n",
    "N = height * width\n",
    "learningRate = 0.0001\n",
    "tolerance = 1e-8"
   ],
   "execution_count": null,
   "outputs": []
  },
  {
   "cell_type": "code",
   "metadata": {
    "id": "338oZG8-e05E"
   },
   "source": [
    "pca = decomposition.PCA(n_components=6)\n",
    "pca.fit(normalize(images))\n",
    "fig = plt.figure(figsize=(height, width))\n",
    "for i in range(6):\n",
    "    ax = fig.add_subplot(3, 10, i + 1, xticks=[], yticks=[])\n",
    "    ax.imshow(pca.components_[i].reshape((height, width)), cmap=plt.cm.bone)"
   ],
   "execution_count": null,
   "outputs": []
  },
  {
   "cell_type": "code",
   "metadata": {
    "id": "5YE1lm5XOdZ1"
   },
   "source": [
    "N = height * width\n",
    "def Oji(datas):\n",
    "  w_oja = np.random.normal(scale=0.25, size=(N, 1))\n",
    "  prev_w_oja = np.ones((N,1))\n",
    "  while np.linalg.norm(w_oja - prev_w_oja) > tolerance:\n",
    "    prev_w_oja = w_oja.copy()\n",
    "    ys = np.dot(datas, w_oja)\n",
    "    w_oja += learningRate * np.sum(ys * datas - np.square(ys) * w_oja.T, axis=0).reshape((N,1))\n",
    "  return w_oja"
   ],
   "execution_count": null,
   "outputs": []
  },
  {
   "cell_type": "code",
   "metadata": {
    "id": "I1L_DE4OWCu3"
   },
   "source": [
    "def Oji_output(image, components):\n",
    "  output = np.zeros(N)\n",
    "  for component in components:\n",
    "    component = component.reshape(N).copy()\n",
    "    output += component * np.dot(component, image) / np.dot(component, component)\n",
    "  return output"
   ],
   "execution_count": null,
   "outputs": []
  },
  {
   "cell_type": "code",
   "metadata": {
    "id": "qqb2Su2iSV-9"
   },
   "source": [
    "input_images = normalize(images.copy())\n",
    "out_comp = []\n",
    "for i in range(6):\n",
    "  component = Oji(input_images)\n",
    "  out_comp.append(component.copy())\n",
    "  input_images -= component.T * np.dot(input_images, component) / np.dot(component.T, component)\n",
    "  input_images = normalize(input_images.copy())"
   ],
   "execution_count": null,
   "outputs": []
  },
  {
   "cell_type": "code",
   "metadata": {
    "id": "XD_0FbDCazbQ"
   },
   "source": [
    "plt.imshow(pca.mean_.reshape((height, width)))"
   ],
   "execution_count": null,
   "outputs": []
  },
  {
   "cell_type": "code",
   "metadata": {
    "id": "gDallpzDa0gQ"
   },
   "source": [
    "plt.imshow(out_comp[0].reshape((height, width)))"
   ],
   "execution_count": null,
   "outputs": []
  },
  {
   "cell_type": "markdown",
   "metadata": {
    "id": "gDT4ZY7quyW8"
   },
   "source": [
    "**Wynikowe składowe**"
   ]
  },
  {
   "cell_type": "code",
   "metadata": {
    "id": "nrqTLeJYUXg0"
   },
   "source": [
    "fig = plt.figure(figsize=(height, width))\n",
    "for i in range(1, 6):\n",
    "    ax = fig.add_subplot(3, 10, i + 1, xticks=[], yticks=[])\n",
    "    ax.imshow(out_comp[i].reshape((height, width)), cmap=plt.cm.bone)"
   ],
   "execution_count": null,
   "outputs": []
  },
  {
   "cell_type": "markdown",
   "metadata": {
    "id": "TYeGrXjkvL2W"
   },
   "source": [
    "**Wynikowe obrazki na podstawie skladowych**"
   ]
  },
  {
   "cell_type": "code",
   "metadata": {
    "id": "wgPeQeIPrjaN"
   },
   "source": [
    "fig = plt.figure(figsize=(height, width))\n",
    "for i in range(5):\n",
    "    ax = fig.add_subplot(3, 5, i + 1, xticks=[], yticks=[])\n",
    "    ax.imshow(Oji_output(images[i], out_comp).reshape((height, width)), cmap=plt.cm.bone)"
   ],
   "execution_count": null,
   "outputs": []
  },
  {
   "cell_type": "markdown",
   "metadata": {
    "id": "LO0vv2f0vRiU"
   },
   "source": [
    "**Podstawowe obrazki**"
   ]
  },
  {
   "cell_type": "code",
   "metadata": {
    "id": "lnkKD-Wfr5Ck"
   },
   "source": [
    "fig = plt.figure(figsize=(height, width))\n",
    "for i in range(5):\n",
    "    ax = fig.add_subplot(3, 5, i + 1, xticks=[], yticks=[])\n",
    "    ax.imshow(images[i].reshape((height, width)), cmap=plt.cm.bone)"
   ],
   "execution_count": null,
   "outputs": []
  }
 ]
}